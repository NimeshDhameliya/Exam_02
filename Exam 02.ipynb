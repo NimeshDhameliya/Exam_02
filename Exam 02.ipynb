{
 "cells": [
  {
   "attachments": {
    "1280px-Lamar_University_logo.svg.png": {
     "image/png": "[encoded data removed]"
    }
   },
   "cell_type": "markdown",
   "id": "11fca16e",
   "metadata": {},
   "source": [
    "![1280px-Lamar_University_logo.svg.png](attachment:1280px-Lamar_University_logo.svg.png)"
   ]
  },
  {
   "cell_type": "markdown",
   "id": "d2a64605",
   "metadata": {},
   "source": [
    "<h1>Nimesh Dhameliya</h1>"
   ]
  },
  {
   "cell_type": "markdown",
   "id": "204cdb09",
   "metadata": {},
   "source": [
    "<h1>Example 03 </h1>"
   ]
  },
  {
   "cell_type": "code",
   "execution_count": 31,
   "id": "d3e4337f",
   "metadata": {},
   "outputs": [],
   "source": [
    "Q = 0.75 * 42100  #https://nwis.waterdata.usgs.gov/nwis/peak?site_no=08039100&agency_cd=USGS&format=html\n",
    "                  #highest peak flow\n",
    "b = 600     # assume max\n",
    "s = 0.03    #slope\n",
    "n = 0.020    #manning's coefficient"
   ]
  },
  {
   "cell_type": "code",
   "execution_count": 32,
   "id": "4e2478cb",
   "metadata": {},
   "outputs": [],
   "source": [
    "import math  # import math for square root"
   ]
  },
  {
   "cell_type": "code",
   "execution_count": 33,
   "id": "7c088eb9",
   "metadata": {},
   "outputs": [],
   "source": [
    "def manningC():   #define function\n",
    "    area = (y + 5)*(T + b)/2\n",
    "    perM = T + b + (T - b)/(0.8509)\n",
    "    Q = (1.49 * area * perM**(2/3) * math.sqrt(s))/n\n",
    "    return y, T"
   ]
  },
  {
   "cell_type": "code",
   "execution_count": 34,
   "id": "e380767f",
   "metadata": {},
   "outputs": [
    {
     "ename": "NameError",
     "evalue": "name 'y' is not defined",
     "output_type": "error",
     "traceback": [
      "\u001b[1;31m---------------------------------------------------------------------------\u001b[0m",
      "\u001b[1;31mNameError\u001b[0m                                 Traceback (most recent call last)",
      "Input \u001b[1;32mIn [34]\u001b[0m, in \u001b[0;36m<cell line: 1>\u001b[1;34m()\u001b[0m\n\u001b[1;32m----> 1\u001b[0m y,T \u001b[38;5;241m=\u001b[39m \u001b[43mmanningC\u001b[49m\u001b[43m(\u001b[49m\u001b[43m)\u001b[49m\n",
      "Input \u001b[1;32mIn [33]\u001b[0m, in \u001b[0;36mmanningC\u001b[1;34m()\u001b[0m\n\u001b[0;32m      1\u001b[0m \u001b[38;5;28;01mdef\u001b[39;00m \u001b[38;5;21mmanningC\u001b[39m():   \u001b[38;5;66;03m#define function\u001b[39;00m\n\u001b[1;32m----> 2\u001b[0m     area \u001b[38;5;241m=\u001b[39m (\u001b[43my\u001b[49m \u001b[38;5;241m+\u001b[39m \u001b[38;5;241m5\u001b[39m)\u001b[38;5;241m*\u001b[39m(T \u001b[38;5;241m+\u001b[39m b)\u001b[38;5;241m/\u001b[39m\u001b[38;5;241m2\u001b[39m\n\u001b[0;32m      3\u001b[0m     perM \u001b[38;5;241m=\u001b[39m T \u001b[38;5;241m+\u001b[39m b \u001b[38;5;241m+\u001b[39m (T \u001b[38;5;241m-\u001b[39m b)\u001b[38;5;241m/\u001b[39m(\u001b[38;5;241m0.8509\u001b[39m)\n\u001b[0;32m      4\u001b[0m     Q \u001b[38;5;241m=\u001b[39m (\u001b[38;5;241m1.49\u001b[39m \u001b[38;5;241m*\u001b[39m area \u001b[38;5;241m*\u001b[39m perM\u001b[38;5;241m*\u001b[39m\u001b[38;5;241m*\u001b[39m(\u001b[38;5;241m2\u001b[39m\u001b[38;5;241m/\u001b[39m\u001b[38;5;241m3\u001b[39m) \u001b[38;5;241m*\u001b[39m math\u001b[38;5;241m.\u001b[39msqrt(s))\u001b[38;5;241m/\u001b[39mn\n",
      "\u001b[1;31mNameError\u001b[0m: name 'y' is not defined"
     ]
    }
   ],
   "source": [
    "y,T = manningC()   #calling the func."
   ]
  },
  {
   "cell_type": "code",
   "execution_count": 35,
   "id": "0e108e2b",
   "metadata": {},
   "outputs": [
    {
     "ename": "NameError",
     "evalue": "name 'area' is not defined",
     "output_type": "error",
     "traceback": [
      "\u001b[1;31m---------------------------------------------------------------------------\u001b[0m",
      "\u001b[1;31mNameError\u001b[0m                                 Traceback (most recent call last)",
      "Input \u001b[1;32mIn [35]\u001b[0m, in \u001b[0;36m<cell line: 1>\u001b[1;34m()\u001b[0m\n\u001b[1;32m----> 1\u001b[0m excavation_soil \u001b[38;5;241m=\u001b[39m \u001b[43marea\u001b[49m \u001b[38;5;241m*\u001b[39m (y \u001b[38;5;241m+\u001b[39m \u001b[38;5;241m5\u001b[39m)\n",
      "\u001b[1;31mNameError\u001b[0m: name 'area' is not defined"
     ]
    }
   ],
   "source": [
    "excavation_soil = area * (y + 5)    # volume of soil = Area * height of channel"
   ]
  },
  {
   "cell_type": "code",
   "execution_count": 36,
   "id": "49af6b9e",
   "metadata": {},
   "outputs": [
    {
     "ename": "NameError",
     "evalue": "name 'excavation_soil' is not defined",
     "output_type": "error",
     "traceback": [
      "\u001b[1;31m---------------------------------------------------------------------------\u001b[0m",
      "\u001b[1;31mNameError\u001b[0m                                 Traceback (most recent call last)",
      "Input \u001b[1;32mIn [36]\u001b[0m, in \u001b[0;36m<cell line: 1>\u001b[1;34m()\u001b[0m\n\u001b[1;32m----> 1\u001b[0m \u001b[43mexcavation_soil\u001b[49m\n",
      "\u001b[1;31mNameError\u001b[0m: name 'excavation_soil' is not defined"
     ]
    }
   ],
   "source": [
    "excavation_soil"
   ]
  },
  {
   "cell_type": "markdown",
   "id": "cc075e38",
   "metadata": {},
   "source": [
    "<h2> Example 02</h2>"
   ]
  },
  {
   "cell_type": "code",
   "execution_count": 37,
   "id": "72204632",
   "metadata": {},
   "outputs": [],
   "source": [
    "import os\n",
    "path = \"C:\\\\Users\\\\nimes\\\\Desktop\\\\Python Data\"    # current path\n",
    "os.chdir(path)    # set directory"
   ]
  },
  {
   "cell_type": "code",
   "execution_count": 38,
   "id": "423f9071",
   "metadata": {},
   "outputs": [],
   "source": [
    "import pandas as pd\n",
    "discharge = pd.read_csv('discharge.csv')   #source: https://waterdata.usgs.gov/nwis/annual?referred_module=sw&amp;site_no=08039100&amp;por_08039100_132821=316,00060,132821,1959,1985&amp;start_dt=1959&amp;end_dt=1985&amp;partial_periods=on&amp;year_type=W&amp;format=html_table&amp;date_format=YYYY-MM-DD&amp;rdb_compression=file&amp;submitted_form=parameter_selection_list"
   ]
  },
  {
   "cell_type": "code",
   "execution_count": 39,
   "id": "ce27c2ca",
   "metadata": {},
   "outputs": [
    {
     "data": {
      "text/html": [
       "<div>\n",
       "<style scoped>\n",
       "    .dataframe tbody tr th:only-of-type {\n",
       "        vertical-align: middle;\n",
       "    }\n",
       "\n",
       "    .dataframe tbody tr th {\n",
       "        vertical-align: top;\n",
       "    }\n",
       "\n",
       "    .dataframe thead th {\n",
       "        text-align: right;\n",
       "    }\n",
       "</style>\n",
       "<table border=\"1\" class=\"dataframe\">\n",
       "  <thead>\n",
       "    <tr style=\"text-align: right;\">\n",
       "      <th></th>\n",
       "      <th>year</th>\n",
       "      <th>discharge(ft?/s)</th>\n",
       "    </tr>\n",
       "  </thead>\n",
       "  <tbody>\n",
       "    <tr>\n",
       "      <th>0</th>\n",
       "      <td>1960</td>\n",
       "      <td>72.00</td>\n",
       "    </tr>\n",
       "    <tr>\n",
       "      <th>1</th>\n",
       "      <td>1961</td>\n",
       "      <td>156.00</td>\n",
       "    </tr>\n",
       "    <tr>\n",
       "      <th>2</th>\n",
       "      <td>1962</td>\n",
       "      <td>68.80</td>\n",
       "    </tr>\n",
       "    <tr>\n",
       "      <th>3</th>\n",
       "      <td>1963</td>\n",
       "      <td>31.90</td>\n",
       "    </tr>\n",
       "    <tr>\n",
       "      <th>4</th>\n",
       "      <td>1964</td>\n",
       "      <td>54.00</td>\n",
       "    </tr>\n",
       "    <tr>\n",
       "      <th>5</th>\n",
       "      <td>1965</td>\n",
       "      <td>24.80</td>\n",
       "    </tr>\n",
       "    <tr>\n",
       "      <th>6</th>\n",
       "      <td>1966</td>\n",
       "      <td>76.30</td>\n",
       "    </tr>\n",
       "    <tr>\n",
       "      <th>7</th>\n",
       "      <td>1967</td>\n",
       "      <td>17.40</td>\n",
       "    </tr>\n",
       "    <tr>\n",
       "      <th>8</th>\n",
       "      <td>1968</td>\n",
       "      <td>113.30</td>\n",
       "    </tr>\n",
       "    <tr>\n",
       "      <th>9</th>\n",
       "      <td>1969</td>\n",
       "      <td>141.80</td>\n",
       "    </tr>\n",
       "    <tr>\n",
       "      <th>10</th>\n",
       "      <td>1970</td>\n",
       "      <td>27.90</td>\n",
       "    </tr>\n",
       "    <tr>\n",
       "      <th>11</th>\n",
       "      <td>1971</td>\n",
       "      <td>6.36</td>\n",
       "    </tr>\n",
       "    <tr>\n",
       "      <th>12</th>\n",
       "      <td>1972</td>\n",
       "      <td>39.80</td>\n",
       "    </tr>\n",
       "    <tr>\n",
       "      <th>13</th>\n",
       "      <td>1973</td>\n",
       "      <td>148.40</td>\n",
       "    </tr>\n",
       "    <tr>\n",
       "      <th>14</th>\n",
       "      <td>1974</td>\n",
       "      <td>165.00</td>\n",
       "    </tr>\n",
       "    <tr>\n",
       "      <th>15</th>\n",
       "      <td>1975</td>\n",
       "      <td>171.70</td>\n",
       "    </tr>\n",
       "    <tr>\n",
       "      <th>16</th>\n",
       "      <td>1976</td>\n",
       "      <td>49.00</td>\n",
       "    </tr>\n",
       "    <tr>\n",
       "      <th>17</th>\n",
       "      <td>1977</td>\n",
       "      <td>42.40</td>\n",
       "    </tr>\n",
       "    <tr>\n",
       "      <th>18</th>\n",
       "      <td>1978</td>\n",
       "      <td>74.40</td>\n",
       "    </tr>\n",
       "    <tr>\n",
       "      <th>19</th>\n",
       "      <td>1979</td>\n",
       "      <td>190.60</td>\n",
       "    </tr>\n",
       "    <tr>\n",
       "      <th>20</th>\n",
       "      <td>1980</td>\n",
       "      <td>86.10</td>\n",
       "    </tr>\n",
       "    <tr>\n",
       "      <th>21</th>\n",
       "      <td>1981</td>\n",
       "      <td>23.90</td>\n",
       "    </tr>\n",
       "    <tr>\n",
       "      <th>22</th>\n",
       "      <td>1982</td>\n",
       "      <td>53.20</td>\n",
       "    </tr>\n",
       "    <tr>\n",
       "      <th>23</th>\n",
       "      <td>1983</td>\n",
       "      <td>171.30</td>\n",
       "    </tr>\n",
       "    <tr>\n",
       "      <th>24</th>\n",
       "      <td>1984</td>\n",
       "      <td>106.30</td>\n",
       "    </tr>\n",
       "    <tr>\n",
       "      <th>25</th>\n",
       "      <td>1985</td>\n",
       "      <td>64.00</td>\n",
       "    </tr>\n",
       "  </tbody>\n",
       "</table>\n",
       "</div>"
      ],
      "text/plain": [
       "    year  discharge(ft?/s)\n",
       "0   1960             72.00\n",
       "1   1961            156.00\n",
       "2   1962             68.80\n",
       "3   1963             31.90\n",
       "4   1964             54.00\n",
       "5   1965             24.80\n",
       "6   1966             76.30\n",
       "7   1967             17.40\n",
       "8   1968            113.30\n",
       "9   1969            141.80\n",
       "10  1970             27.90\n",
       "11  1971              6.36\n",
       "12  1972             39.80\n",
       "13  1973            148.40\n",
       "14  1974            165.00\n",
       "15  1975            171.70\n",
       "16  1976             49.00\n",
       "17  1977             42.40\n",
       "18  1978             74.40\n",
       "19  1979            190.60\n",
       "20  1980             86.10\n",
       "21  1981             23.90\n",
       "22  1982             53.20\n",
       "23  1983            171.30\n",
       "24  1984            106.30\n",
       "25  1985             64.00"
      ]
     },
     "execution_count": 39,
     "metadata": {},
     "output_type": "execute_result"
    }
   ],
   "source": [
    "discharge"
   ]
  },
  {
   "cell_type": "code",
   "execution_count": 40,
   "id": "e08de8da",
   "metadata": {},
   "outputs": [],
   "source": [
    "def fx(x,r,n):   #define func for grington posotion\n",
    "    fox = (r - 0.44)/(n + 0.12)\n",
    "    return fox"
   ]
  },
  {
   "cell_type": "code",
   "execution_count": 41,
   "id": "2025564d",
   "metadata": {},
   "outputs": [
    {
     "ename": "TypeError",
     "evalue": "fx() missing 3 required positional arguments: 'x', 'r', and 'n'",
     "output_type": "error",
     "traceback": [
      "\u001b[1;31m---------------------------------------------------------------------------\u001b[0m",
      "\u001b[1;31mTypeError\u001b[0m                                 Traceback (most recent call last)",
      "Input \u001b[1;32mIn [41]\u001b[0m, in \u001b[0;36m<cell line: 1>\u001b[1;34m()\u001b[0m\n\u001b[1;32m----> 1\u001b[0m \u001b[43mfx\u001b[49m\u001b[43m(\u001b[49m\u001b[43m)\u001b[49m\n",
      "\u001b[1;31mTypeError\u001b[0m: fx() missing 3 required positional arguments: 'x', 'r', and 'n'"
     ]
    }
   ],
   "source": [
    "fox = fx()\n",
    "fox"
   ]
  },
  {
   "cell_type": "markdown",
   "id": "8a525532",
   "metadata": {},
   "source": [
    "<h1>Example 01</h1>"
   ]
  },
  {
   "cell_type": "code",
   "execution_count": 42,
   "id": "ec922e96",
   "metadata": {},
   "outputs": [],
   "source": [
    "p1 = 400 #load on truss\n",
    "p2 = 200\n"
   ]
  },
  {
   "cell_type": "code",
   "execution_count": null,
   "id": "d93dcb58",
   "metadata": {},
   "outputs": [],
   "source": []
  }
 ],
 "metadata": {
  "kernelspec": {
   "display_name": "Python 3 (ipykernel)",
   "language": "python",
   "name": "python3"
  },
  "language_info": {
   "codemirror_mode": {
    "name": "ipython",
    "version": 3
   },
   "file_extension": ".py",
   "mimetype": "text/x-python",
   "name": "python",
   "nbconvert_exporter": "python",
   "pygments_lexer": "ipython3",
   "version": "3.9.12"
  }
 },
 "nbformat": 4,
 "nbformat_minor": 5
}
